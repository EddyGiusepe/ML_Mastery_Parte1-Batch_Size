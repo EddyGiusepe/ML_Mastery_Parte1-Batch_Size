{
  "nbformat": 4,
  "nbformat_minor": 0,
  "metadata": {
    "colab": {
      "name": "ML_Mastery_Batch_size_Parte1.ipynb",
      "provenance": [],
      "authorship_tag": "ABX9TyPBNT0go48hnSTtcltg7i9H",
      "include_colab_link": true
    },
    "kernelspec": {
      "name": "python3",
      "display_name": "Python 3"
    }
  },
  "cells": [
    {
      "cell_type": "markdown",
      "metadata": {
        "id": "view-in-github",
        "colab_type": "text"
      },
      "source": [
        "<a href=\"https://colab.research.google.com/github/EddyGiusepe/ML_Mastery_Parte1-Batch_Size/blob/main/ML_Mastery_Batch_size_Parte1.ipynb\" target=\"_parent\"><img src=\"https://colab.research.google.com/assets/colab-badge.svg\" alt=\"Open In Colab\"/></a>"
      ]
    },
    {
      "cell_type": "markdown",
      "metadata": {
        "id": "4qCCBosKcx7F"
      },
      "source": [
        "# **ML Mastery -- Parte1**\r\n",
        "\r\n",
        "## **Batch Size**\r\n",
        "\r\n",
        "\r\n",
        "Olá, nesta lição, você descobrirá a importância do tamanho do lote ao treinar redes neurais.\r\n",
        "\r\n",
        "As redes neurais são treinadas usando **gradiente descendente**, onde a estimativa do erro usada para atualizar os pesos é calculada com base em um subconjunto do conjunto de dados de treinamento.\r\n",
        "\r\n",
        "O número de exemplos do conjunto de dados de treinamento usado na estimativa do gradiente de erro é chamado de **tamanho do lote** e é um hiperparâmetro importante que influencia a dinâmica do algoritmo de aprendizagem.\r\n",
        "\r\n",
        "\r\n",
        "<font color='orange'>A escolha do tamanho do lote controla a rapidez com que o algoritmo aprende</font>, por exemplo:\r\n",
        "\r\n",
        "* <font color='blue'>Batch Gradient Descent</font> (Gradiente descendente em lote). O tamanho do lote é definido como o número de exemplos no conjunto de dados de treinamento, estimativa mais precisa de erro, mas mais tempo entre as atualizações de peso.\r\n",
        "\r\n",
        "* <font color='blue'>Stochastic Gradient Descent</font> (Gradiente descendente estocástico). O tamanho do lote é definido como $1$, estimativa ruidosa de erro, mas atualizações frequentes de pesos.\r\n",
        "\r\n",
        "* <font color='blue'>Minibatch Gradient Descent</font> (Gradiente descendente Minibatch). O tamanho do lote é definido com um valor maior que $1$ e menor que o número de exemplos do treinamento, compensação entre o lote e o gradiente descendente estocástico.\r\n",
        "\r\n",
        "Aqui deixamos mais um site, para mais informação ([click aqui](https://sweta-nit.medium.com/batch-mini-batch-and-stochastic-gradient-descent-e9bc4cacd461))\r\n",
        "\r\n",
        "\r\n",
        "``Keras`` permite configurar o tamanho do lote por meio do argumento ``batch_size`` para a função ``fit()``, <font color='orange'>por exemplo</font>:\r\n",
        "\r\n",
        "\r\n",
        "### fit model\r\n",
        "history = model.fit(trainX, trainy, epochs=1000, batch_size=len(trainX))​\r\n",
        "\r\n",
        "\r\n",
        "O exemplo abaixo demonstra um **Perceptron Multicamadas** com gradiente descendente em lote em um problema de **classificação binária**."
      ]
    },
    {
      "cell_type": "markdown",
      "metadata": {
        "id": "GsxC46n9lQTQ"
      },
      "source": [
        "<font color='orange'>Example of Batch gradient descent</font>"
      ]
    },
    {
      "cell_type": "code",
      "metadata": {
        "id": "MyFhEKvybK3W"
      },
      "source": [
        "# Importamos a nossas livrarias\r\n",
        "\r\n",
        "from sklearn.datasets import make_circles\r\n",
        "from keras.layers import Dense\r\n",
        "from keras.models import Sequential\r\n",
        "from keras.optimizers import SGD\r\n",
        "\r\n",
        "from matplotlib import pyplot\r\n"
      ],
      "execution_count": 1,
      "outputs": []
    },
    {
      "cell_type": "code",
      "metadata": {
        "id": "p140-mdZmLgD"
      },
      "source": [
        "# Geramos nossos Dataset\r\n",
        "\r\n",
        "x, y = make_circles(n_samples=1000, noise = 0.1, random_state=1)\r\n"
      ],
      "execution_count": 2,
      "outputs": []
    },
    {
      "cell_type": "code",
      "metadata": {
        "id": "Nl1y0FIam5G3"
      },
      "source": [
        "# Dividir em Dados treino e teste (Split into train and test)\r\n",
        "\r\n",
        "n_train = 500\r\n",
        "\r\n",
        "trainx, testx = x[:n_train, :], x[n_train:, :]\r\n",
        "trainy, testy = y[:n_train], y[n_train:]\r\n"
      ],
      "execution_count": 3,
      "outputs": []
    },
    {
      "cell_type": "code",
      "metadata": {
        "colab": {
          "base_uri": "https://localhost:8080/"
        },
        "id": "h-WpRlOiqWO4",
        "outputId": "953c912c-5ef7-4556-ecc7-ff51b548227e"
      },
      "source": [
        "len(x[:n_train, :])"
      ],
      "execution_count": 4,
      "outputs": [
        {
          "output_type": "execute_result",
          "data": {
            "text/plain": [
              "500"
            ]
          },
          "metadata": {
            "tags": []
          },
          "execution_count": 4
        }
      ]
    },
    {
      "cell_type": "code",
      "metadata": {
        "colab": {
          "base_uri": "https://localhost:8080/"
        },
        "id": "2KtWNd5uqYo8",
        "outputId": "d2ae21b7-b4b5-4c6c-aa05-c0fd1f83b138"
      },
      "source": [
        "len(trainx)"
      ],
      "execution_count": 5,
      "outputs": [
        {
          "output_type": "execute_result",
          "data": {
            "text/plain": [
              "500"
            ]
          },
          "metadata": {
            "tags": []
          },
          "execution_count": 5
        }
      ]
    },
    {
      "cell_type": "code",
      "metadata": {
        "colab": {
          "base_uri": "https://localhost:8080/"
        },
        "id": "I8Hgo0oDuvTk",
        "outputId": "3fdb0cd4-8be6-43c8-9dd5-cc16656e3f49"
      },
      "source": [
        "len(testx)"
      ],
      "execution_count": 6,
      "outputs": [
        {
          "output_type": "execute_result",
          "data": {
            "text/plain": [
              "500"
            ]
          },
          "metadata": {
            "tags": []
          },
          "execution_count": 6
        }
      ]
    },
    {
      "cell_type": "code",
      "metadata": {
        "id": "P4NdL9cLu0PB"
      },
      "source": [
        "# Criamos nosso modelo\r\n",
        "\r\n",
        "model = Sequential()\r\n",
        "model.add(Dense(50, input_dim = 2, activation='relu'))\r\n",
        "model.add(Dense(1, activation='sigmoid'))"
      ],
      "execution_count": 7,
      "outputs": []
    },
    {
      "cell_type": "code",
      "metadata": {
        "id": "UML9ZUxKwDHW"
      },
      "source": [
        "# Compilamos nosso modelo (Compile model) \r\n",
        "\r\n",
        "opt = SGD(lr = 0.01, momentum=0.9)\r\n",
        "\r\n",
        "model.compile(loss='binary_crossentropy', optimizer=opt, metrics=['accuracy'])\r\n"
      ],
      "execution_count": 8,
      "outputs": []
    },
    {
      "cell_type": "code",
      "metadata": {
        "id": "z1NBORpaxDUm"
      },
      "source": [
        "# Ajustamos nosso modelo (Fit model)\r\n",
        "\r\n",
        "history = model.fit(trainx,trainy,validation_data=(testx,testy),epochs=1500,batch_size=len(trainx),verbose=0)\r\n",
        "\r\n"
      ],
      "execution_count": 9,
      "outputs": []
    },
    {
      "cell_type": "code",
      "metadata": {
        "colab": {
          "base_uri": "https://localhost:8080/"
        },
        "id": "KdQoLz7Rx7LJ",
        "outputId": "da02b31e-1b61-4a86-a869-b527c91d590d"
      },
      "source": [
        "# Avaliação de nosso modelo (Evaluate the model)\r\n",
        "\r\n",
        "_, train_acc = model.evaluate(trainx, trainy, verbose=1)\r\n",
        "_, test_acc = model.evaluate(testx, testy, verbose=1)\r\n",
        "\r\n",
        "\r\n",
        "print('Train: %.3f, Test: %.3f' % (train_acc, test_acc))"
      ],
      "execution_count": 10,
      "outputs": [
        {
          "output_type": "stream",
          "text": [
            "16/16 [==============================] - 0s 1ms/step - loss: 0.4865 - accuracy: 0.8360\n",
            "16/16 [==============================] - 0s 1ms/step - loss: 0.4872 - accuracy: 0.8560\n",
            "Train: 0.836, Test: 0.856\n"
          ],
          "name": "stdout"
        }
      ]
    },
    {
      "cell_type": "code",
      "metadata": {
        "colab": {
          "base_uri": "https://localhost:8080/",
          "height": 278
        },
        "id": "ywBUCTYn1Akf",
        "outputId": "dafe07a4-9fbf-4c22-f7ab-7937d9e440a2"
      },
      "source": [
        "# Plot loss learning curves \r\n",
        "#pyplot.subplot(211)\r\n",
        "pyplot.title('Cross-Entropy Loss', pad=-40)\r\n",
        "pyplot.plot(history.history['loss'], label='train')\r\n",
        "pyplot.plot(history.history['val_loss'], label='test')\r\n",
        "pyplot.legend()\r\n",
        "pyplot.show()\r\n",
        "\r\n"
      ],
      "execution_count": 11,
      "outputs": [
        {
          "output_type": "display_data",
          "data": {
            "image/png": "[encoded data removed]",
            "text/plain": [
              "<Figure size 432x288 with 1 Axes>"
            ]
          },
          "metadata": {
            "tags": [],
            "needs_background": "light"
          }
        }
      ]
    },
    {
      "cell_type": "code",
      "metadata": {
        "colab": {
          "base_uri": "https://localhost:8080/",
          "height": 278
        },
        "id": "LjibA9pbBsXK",
        "outputId": "778f4920-5cee-45bb-e899-70d7670ef8a9"
      },
      "source": [
        "# Plot accuracy learning curves\r\n",
        "\r\n",
        "#pyplot.subplot(212)\r\n",
        "pyplot.title('Accuracy', pad=-40)\r\n",
        "pyplot.plot(history.history['accuracy'], label='train')\r\n",
        "pyplot.plot(history.history['val_accuracy'], label='test')\r\n",
        "pyplot.legend()\r\n",
        "pyplot.show()"
      ],
      "execution_count": 12,
      "outputs": [
        {
          "output_type": "display_data",
          "data": {
            "image/png": "[encoded data removed]",
            "text/plain": [
              "<Figure size 432x288 with 1 Axes>"
            ]
          },
          "metadata": {
            "tags": [],
            "needs_background": "light"
          }
        }
      ]
    },
    {
      "cell_type": "markdown",
      "metadata": {
        "id": "WvRnh-W5IQZr"
      },
      "source": [
        "<font color='orange'>Nosso próximo trabalho</font>\r\n",
        "\r\n",
        "Executaremos o código com cada tipo de gradiente descendente (lote, minibatch e estocástico) e descreveremos o efeito que tem nas curvas de aprendizado durante o treinamento.\r\n",
        "\r\n",
        "Também, na próxima lição você descobrirá como ajustar um modelo durante o treinamento com uma programação de taxa de aprendizado."
      ]
    },
    {
      "cell_type": "code",
      "metadata": {
        "id": "GAZOEAjnH8Zh"
      },
      "source": [
        ""
      ],
      "execution_count": null,
      "outputs": []
    }
  ]
}